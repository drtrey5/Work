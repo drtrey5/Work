{
 "metadata": {
  "language_info": {
   "codemirror_mode": {
    "name": "ipython",
    "version": 3
   },
   "file_extension": ".py",
   "mimetype": "text/x-python",
   "name": "python",
   "nbconvert_exporter": "python",
   "pygments_lexer": "ipython3",
   "version": "3.9.5"
  },
  "orig_nbformat": 2,
  "kernelspec": {
   "name": "python395jvsc74a57bd0af7ae893aa45179dd6f8560b4aa2c71897b298e34ec3ce90d2696f8c664b9ca9",
   "display_name": "Python 3.9.5 64-bit ('workenv': conda)"
  }
 },
 "nbformat": 4,
 "nbformat_minor": 2,
 "cells": [
  {
   "cell_type": "code",
   "execution_count": 2,
   "metadata": {},
   "outputs": [],
   "source": [
    "#imports for behind the scenes computations and organization, and import of the excel sheet into the code\n",
    "\n",
    "import pandas as pd\n",
    "import numpy as np\n",
    "import tkinter as tk\n",
    "import datetime as dt\n",
    "import tkcalendar as cal\n",
    "\n",
    "xlsx = pd.ExcelFile(\"Data5_23_Correct.xlsx\", engine = \"openpyxl\")\n",
    "dataOEE_Page = pd.read_excel(xlsx,'Twin Screw OEE')\n",
    "dataTS_Page = pd.read_excel(xlsx, \"Twin Screw \")"
   ]
  },
  {
   "cell_type": "code",
   "execution_count": null,
   "metadata": {},
   "outputs": [],
   "source": [
    "root = tk.Tk()\n",
    "\n",
    "#Where all the labels for dropdown menus and the calender objects will go\n",
    "labelDate = tk.Label(root)\n",
    "labelX = tk.Label(root)\n",
    "labelY = tk.Label(root)\n",
    "labelY2 = tk.Label(root)\n",
    "\n",
    "labelDate.grid(row = 0, column = 0, sticky = 'W')\n",
    "labelX.grid(row = 1, column = 0, sticky = 'W')\n",
    "labelY.grid(row = 2, column = 0, sticky = 'W')\n",
    "\n",
    "root.mainloop()"
   ]
  }
 ]
}