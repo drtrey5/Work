{
 "metadata": {
  "language_info": {
   "codemirror_mode": {
    "name": "ipython",
    "version": 3
   },
   "file_extension": ".py",
   "mimetype": "text/x-python",
   "name": "python",
   "nbconvert_exporter": "python",
   "pygments_lexer": "ipython3",
   "version": "3.9.5"
  },
  "orig_nbformat": 2,
  "kernelspec": {
   "name": "python3",
   "display_name": "Python 3.9.5 64-bit ('workenv': conda)"
  },
  "interpreter": {
   "hash": "af7ae893aa45179dd6f8560b4aa2c71897b298e34ec3ce90d2696f8c664b9ca9"
  }
 },
 "nbformat": 4,
 "nbformat_minor": 2,
 "cells": [
  {
   "cell_type": "code",
   "execution_count": 126,
   "metadata": {},
   "outputs": [],
   "source": [
    "import pandas as pd\n",
    "import numpy as np\n",
    "import datetime as dt\n",
    "\n",
    "xlsx = pd.ExcelFile(\"Data5_23_Correct.xlsx\", engine = \"openpyxl\")\n",
    "dataOEE_Page = pd.read_excel(xlsx,'Twin Screw OEE')\n",
    "dataTS_Page = pd.read_excel(xlsx, \"Twin Screw \")\n",
    "dateInterval = 1"
   ]
  },
  {
   "cell_type": "code",
   "execution_count": 127,
   "metadata": {},
   "outputs": [],
   "source": [
    "def startUp():\n",
    "    #This section of code takes filler sections of the excel spreadsheet from both tabs and removes them\n",
    "\n",
    "    global dataOEE_Page\n",
    "    global dataTS_Page\n",
    "\n",
    "    dataOEE_Page.replace('x', np.nan, inplace= True)\n",
    "    dataTS_Page.replace('x', np.nan, inplace = True)\n",
    "\n",
    "    dataOEE_Page.drop(labels = 0, axis = 0, inplace = True)\n",
    "    dataTS_Page.drop(labels = 0, axis = 0, inplace = True)\n",
    "\n",
    "    #print(dataOEE_Page)\n",
    "\n",
    "    #Names the indexes for the columns of the dataframes\n",
    "\n",
    "    dataOEE_Page.columns = ['Date', 'Lbs Produced', '%OEE', 'Labor Hours', 'Lb/Man Hour', 'Pails Filled', 'Pails/Man Hour', 'Removal', 'Week of', 'Weekly %OEE']\n",
    "    dataTS_Page.columns = ['Date', 'Num of Ops', 'Total Minutes', 'Maintenance', 'Making Powder', 'Making Prepolymer', 'Startup', 'Breaks', 'LBS Produced', 'Pails Filled', 'Minutes Worked', 'Efficiency', 'Unnamed', 'Unnamed', 'Unnamed']\n",
    "\n",
    "    #dataOEE_Page\n",
    "\n",
    "    #This section trims the fat off the data set and removes entries that are effectively empty from both the OEE and Efficiency\n",
    "    #tab. \n",
    "\n",
    "    dataTS_Page = dataTS_Page.dropna(how = 'all', axis = 1)\n",
    "    dataTS_Page = dataTS_Page.dropna(subset=['Num of Ops'])\n",
    "\n",
    "    dataOEE_Page = dataOEE_Page.dropna(subset=['Labor Hours'])\n",
    "    dataOEE_Page = dataOEE_Page.dropna(how = 'all', axis = 1)\n",
    "\n",
    "    #Assigns type data to the values in the columns, certain columns are uninterpretable due to the extra data within them \n",
    "\n",
    "    dataOEE_Page = dataOEE_Page.astype({\"Lbs Produced\": np.float64, \"%OEE\": np.float64, \"Labor Hours\": np.float64, \"Lb/Man Hour\": np.float64, \"Pails Filled\": np.float64, \"Pails/Man Hour\": np.float64, 'Weekly %OEE': np.float64})\n",
    "    dataTS_Page = dataTS_Page.astype({'Num of Ops': np.float64, 'Total Minutes': np.float64, 'Maintenance': np.float64, 'Efficiency': np.float64})\n",
    "\n",
    "    #This section will identify the percent values that are based as a decimal in the updated dataframes\n",
    "    #From here the new data is passed down onto future methods for stronger correlations\n",
    "\n",
    "    dataOEE_Page.loc[dataOEE_Page['%OEE'] < 1, '%OEE'] = round(dataOEE_Page['%OEE']*100, 0)\n",
    "    dataTS_Page.loc[dataTS_Page['Efficiency'] < 1, 'Efficiency'] = round(dataTS_Page['Efficiency']*100, 0)\n",
    "\n"
   ]
  },
  {
   "cell_type": "code",
   "execution_count": 128,
   "metadata": {},
   "outputs": [],
   "source": [
    "def pairDateData(OEEdata, TSdata):\n",
    "    #This section of code takes the first 13 entries of the Twin Screw OEE tab of the excel sheet and removes them from the data pool\n",
    "    #This effectively removes the logic error that occurred due to the lack of the # of operators on the - tab, and realigns the dates\n",
    "    #Following this section, data that doesn't have a matching pair datewise will be removed from each respective dataframe\n",
    "\n",
    "    OEEdata.drop(dataOEE_Page.index[range(0,13)], axis = 0, inplace =True)\n",
    "\n",
    "    OEEdata = OEEdata.reset_index(drop = True)\n",
    "    TSdata = TSdata.reset_index(drop = True)\n",
    "\n",
    "    #Using the dates from the trimmed lists, then comparing them to make a condensed list of data points\n",
    "    #This resultant list should contain all eligible data points\n",
    "    #From this comparison dataframe we should be able to pull data that correlates directly\n",
    "    #Should only be done in order to compare data cross sheet due to lack of variables\n",
    "\n",
    "    dateCheck = [OEEdata['Date'], TSdata['Date']] #Makes a list of the columns from either dataFrame\n",
    "    dateCheck = pd.concat(dateCheck, axis=1, ignore_index=False, verify_integrity=False) #Combines the dataCheck list into a dataFrame\n",
    "    dateCheck['Removal_OEE'] = np.nan #Adds columns of nan values\n",
    "    dateCheck['Removal_TS'] = np.nan \n",
    "    dateCheck.columns = ['OEE_Date', 'TS_Date','Removal_OEE','Removal_TS'] #Renames the columns of the dataframe\n",
    "\n",
    "    #Checks whether or not the dates correspond to each other throughout either column, result is recorded in respective removal column\n",
    "    #Recorded as True if there is matching pair, False if there isn't\n",
    "    dateCheck['Removal_OEE'] = (dateCheck['OEE_Date'].isin(dateCheck['TS_Date']))\n",
    "    dateCheck['Removal_TS'] = (dateCheck['TS_Date'].isin(dateCheck['OEE_Date']))\n",
    "\n",
    "    OEEindex = dateCheck[dateCheck['Removal_OEE'] == False].index #Identifies the exact index of the date cell needing removed\n",
    "    TSindex = dateCheck[dateCheck['Removal_TS'] == False].index\n",
    "\n",
    "    #print(OEEindex)\n",
    "    #print(TSindex)\n",
    "\n",
    "    #Drops erroneous cells from both data sets\n",
    "    OEEdata = OEEdata.drop(OEEindex, inplace=False)\n",
    "    TSdata = TSdata.drop(TSindex,inplace=False)\n",
    "\n",
    "    OEEdata = OEEdata.reset_index(drop = True)\n",
    "    TSdata = TSdata.reset_index(drop = True)\n",
    "    TSdata = TSdata.drop(labels = ['Date'], axis = 1)\n",
    "\n",
    "    combo = pd.concat([OEEdata, TSdata], axis = 1, ignore_index = False)\n",
    "    return combo\n"
   ]
  },
  {
   "cell_type": "code",
   "execution_count": 129,
   "metadata": {},
   "outputs": [],
   "source": [
    "def narrowDates(df, date):\n",
    "\n",
    "    #Will act as test parameters to prepare method for true use\n",
    "    testDay = True #Will be the program default\n",
    "    testWeek = False\n",
    "    testMonth = False\n",
    "    testDate = pd.Timestamp(date + \" 00:00:00\")\n",
    "    daysInMonth = testDate.daysinmonth\n",
    "    beginningOfInterval = pd.Timestamp()\n",
    "    print(daysInMonth)\n",
    "    userInput = 'Tier 3'\n",
    "\n",
    "    \n",
    "    df['Date'] = pd.to_datetime(df['Date'])\n",
    "\n",
    "    #Basically decides how far back the date retrieval will go.\n",
    "    global dateInterval\n",
    "    if (userInput == \"Tier 2\"):\n",
    "        beginningOfInterval = testDate\n",
    "    elif (userInput == 'Tier 3'):\n",
    "        beginningOfInterval = testDate - pd.Timedelta(str(dateInterval) + ' day')\n",
    "    elif (userInput == 'Tier 5'): #If not month's end it will retrieve all prior data up to that point\n",
    "        beginningOfInterval = testDate.replace(day=1)\n",
    "    else:\n",
    "        print('System Error: Invalid selection')\n",
    "\n",
    "    if (testDate in df['Date'].values):\n",
    "        print (\"It's here\")\n",
    "    else:\n",
    "        print('Not in dataset')\n",
    "\n",
    "\n",
    "    #Will set index of the dataframe to that of the dates to be easily moved through and sorted by\n",
    "    df.set_index('Date', inplace=True)\n",
    "    return (df['Date'].loc[beginningOfInterval:testDate])\n",
    "\n",
    "\n",
    "\n"
   ]
  },
  {
   "source": [
    "startUp()\n",
    "pairedDate = pairDateData(dataOEE_Page, dataTS_Page)\n",
    "passedDate = \"2021-05-17\"\n",
    "narrowDates(pairedDate, passedDate)"
   ],
   "cell_type": "code",
   "metadata": {},
   "execution_count": 130,
   "outputs": [
    {
     "output_type": "stream",
     "name": "stdout",
     "text": [
      "31\nIt's here\n2021-05-10 00:00:00\n"
     ]
    }
   ]
  },
  {
   "cell_type": "code",
   "execution_count": null,
   "metadata": {},
   "outputs": [],
   "source": []
  }
 ]
}